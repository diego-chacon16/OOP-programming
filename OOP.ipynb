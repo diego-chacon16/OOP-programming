{
 "cells": [
  {
   "cell_type": "markdown",
   "id": "1835b8bf-176b-4d78-acea-40a07c6c5bc4",
   "metadata": {},
   "source": [
    "## Object Oriented Programming in Python\n",
    "\n",
    "+ Classes\n",
    "+ Constructor __init__\n",
    "+ Class vs. Static Method"
   ]
  },
  {
   "cell_type": "code",
   "execution_count": 32,
   "id": "caed49b5-4370-4405-a178-f976ade7b4a2",
   "metadata": {},
   "outputs": [
    {
     "name": "stdout",
     "output_type": "stream",
     "text": [
      "Tim\n"
     ]
    }
   ],
   "source": [
    "class Dog:\n",
    "    # created a method\n",
    "    # method is a function within the class\n",
    "    def __init__(self, name, age):\n",
    "        self.name = name  # attribute of the class Dog which is name\n",
    "        self.age = age   # attribute of the class Dog which is age\n",
    "        \n",
    "    def get_name(self):\n",
    "        return self.name\n",
    "    \n",
    "    def get_age(self):\n",
    "        return self.age\n",
    "        \n",
    "    def set_age(self, age):\n",
    "        self.age = age\n",
    "        \n",
    "        \n",
    "d = Dog(\"Tim\", 34)\n",
    "d.set_age(23)\n",
    "print(d.get_name())"
   ]
  },
  {
   "cell_type": "code",
   "execution_count": 2,
   "id": "e87ce720-4ef0-4f9c-9107-1976439e8ac6",
   "metadata": {},
   "outputs": [
    {
     "name": "stdout",
     "output_type": "stream",
     "text": [
      "85.0\n"
     ]
    }
   ],
   "source": [
    "class Student:\n",
    "    def __init__(self,name, age, grade):\n",
    "        self.name = name      # students name\n",
    "        self.age = age        # students age\n",
    "        self.grade = grade    # 0 to 100\n",
    "    \n",
    "    def get_grade(self):\n",
    "        return self.grade\n",
    "\n",
    "\n",
    "class Course:\n",
    "    def __init__(self, name, max_students):\n",
    "        self.name = name\n",
    "        self.max_students = max_students\n",
    "        self.students = []\n",
    "        \n",
    "    def add_student(self, student):\n",
    "        # if the maximum # of students has been reached, they will be added to the empty self.students list\n",
    "        if len(self.students) < self.max_students:\n",
    "            self.students.append(student)\n",
    "            return True\n",
    "        return False\n",
    "    \n",
    "    def get_average_grade(self):\n",
    "        value = 0\n",
    "        for student in self.students:\n",
    "            value += student.get_grade()\n",
    "            \n",
    "        return value / len(self.students)\n",
    "    \n",
    "s1 = Student(\"Tim\", 19, 95)\n",
    "s2 = Student(\"Bill\", 19, 75)\n",
    "s3 = Student(\"Jill\", 19, 80)\n",
    "\n",
    "course = Course(\"Science\", 2)\n",
    "course.add_student(s1)\n",
    "course.add_student(s2)\n",
    "print(course.get_average_grade())"
   ]
  },
  {
   "cell_type": "markdown",
   "id": "decc6baa-775d-4c72-904c-2adf3274a2e5",
   "metadata": {},
   "source": [
    "## Inheritance Classes"
   ]
  },
  {
   "cell_type": "code",
   "execution_count": 22,
   "id": "98176f09-0575-48b9-a58c-61af629311c7",
   "metadata": {},
   "outputs": [],
   "source": [
    "# Human class is a generalization class\n",
    "# Kids and Parent are more specific classes\n",
    "# Passing the Human class through Kids and Humans, this is called inheritance because it is inheriting the functionality from the generalized class\n",
    "\n",
    "class Human:\n",
    "    def __init__(self, name, age):\n",
    "        self.name = name\n",
    "        self.age = age\n",
    "        \n",
    "    def show(self):\n",
    "        print(f\"I am {self.name} and I am {self.age} years old\")\n",
    "        \n",
    "    def speak(self):\n",
    "        print(\"I am helping Diego learn Object Oriented Programming\")\n",
    "        \n",
    "class Kids(Human):\n",
    "    def __init__(self, name, age, toy):\n",
    "        super().__init__(name, age)\n",
    "        self.toy = toy\n",
    "        \n",
    "    def speak(self):\n",
    "        print(\"Hi Dad\")\n",
    "        \n",
    "    def show(self):\n",
    "        print(f\"I am {self.name} and I am {self.age} years old. My favourite toy is {self.toy}\")\n",
    "        \n",
    "class Parent(Human):\n",
    "    def speak(self):\n",
    "        print(\"Hi Son\")"
   ]
  },
  {
   "cell_type": "code",
   "execution_count": 13,
   "id": "78b06dad-23ab-4410-a460-94f20578488b",
   "metadata": {},
   "outputs": [
    {
     "name": "stdout",
     "output_type": "stream",
     "text": [
      "I am Bob and I am 20 years old\n",
      "I am helping Diego learn Object Oriented Programming\n"
     ]
    }
   ],
   "source": [
    "h = Human(\"Bob\", 20)\n",
    "h.show()\n",
    "h.speak()"
   ]
  },
  {
   "cell_type": "code",
   "execution_count": 23,
   "id": "b2cd9ad2-1142-4aa3-90a2-c6065a1cf99a",
   "metadata": {},
   "outputs": [
    {
     "name": "stdout",
     "output_type": "stream",
     "text": [
      "I am Sofia and I am 2 years old. My favourite toy is Bluey\n"
     ]
    }
   ],
   "source": [
    "# inheriting the properties from the human class and using that to functionalize this specific class created called Kids\n",
    "\n",
    "k = Kids(\"Sofia\", 2, \"Bluey\")\n",
    "k.show()"
   ]
  },
  {
   "cell_type": "code",
   "execution_count": 11,
   "id": "2b457da1-7a94-442c-bc20-1a62ade68892",
   "metadata": {},
   "outputs": [
    {
     "name": "stdout",
     "output_type": "stream",
     "text": [
      "I am Leo and I am 56 years old\n",
      "Hi Son\n"
     ]
    }
   ],
   "source": [
    "p = Parent(\"Leo\", 56)\n",
    "p.show()\n",
    "p.speak()"
   ]
  },
  {
   "cell_type": "markdown",
   "id": "e00f33a4-c673-4182-b02a-0d7e4bcb3815",
   "metadata": {},
   "source": [
    "\n"
   ]
  },
  {
   "cell_type": "markdown",
   "id": "a1009830-d0fc-40dd-b174-0ba228553e89",
   "metadata": {},
   "source": [
    "## Classic vs. Static Classes"
   ]
  },
  {
   "cell_type": "code",
   "execution_count": null,
   "id": "469e070a-b2c8-4a81-81c4-2d425d746a26",
   "metadata": {},
   "outputs": [],
   "source": []
  },
  {
   "cell_type": "code",
   "execution_count": null,
   "id": "ade286a1-54b0-4ec1-913e-e88d5a640f07",
   "metadata": {},
   "outputs": [],
   "source": []
  },
  {
   "cell_type": "code",
   "execution_count": null,
   "id": "85cd9954-c6c9-4891-9ffa-53bd46956cb9",
   "metadata": {},
   "outputs": [],
   "source": []
  },
  {
   "cell_type": "code",
   "execution_count": null,
   "id": "02bd953a-1d41-45d2-9ae0-db5f6c94b93a",
   "metadata": {},
   "outputs": [],
   "source": []
  },
  {
   "cell_type": "code",
   "execution_count": null,
   "id": "ef3d7220-7d38-47f6-b9d1-341706ab4b1b",
   "metadata": {},
   "outputs": [],
   "source": []
  },
  {
   "cell_type": "code",
   "execution_count": null,
   "id": "5ec199f9-f75e-492f-893b-6353a36869f9",
   "metadata": {},
   "outputs": [],
   "source": []
  },
  {
   "cell_type": "code",
   "execution_count": null,
   "id": "29bd5745-8839-4d39-a978-1c4a9267c08f",
   "metadata": {},
   "outputs": [],
   "source": []
  },
  {
   "cell_type": "code",
   "execution_count": null,
   "id": "0ae1714d-589c-4ead-9883-c32296e82043",
   "metadata": {},
   "outputs": [],
   "source": []
  },
  {
   "cell_type": "code",
   "execution_count": null,
   "id": "26f73d9f-7f2b-4097-955f-2412367c8d66",
   "metadata": {},
   "outputs": [],
   "source": []
  },
  {
   "cell_type": "code",
   "execution_count": null,
   "id": "4c1a3eeb-6cc2-49e3-8b24-603a4b0dcfee",
   "metadata": {},
   "outputs": [],
   "source": []
  },
  {
   "cell_type": "code",
   "execution_count": null,
   "id": "a853b4ba-0579-4313-9f6c-43f04e06711c",
   "metadata": {},
   "outputs": [],
   "source": []
  },
  {
   "cell_type": "code",
   "execution_count": null,
   "id": "513b96d6-d2c4-49c5-b067-7042d4512958",
   "metadata": {},
   "outputs": [],
   "source": []
  },
  {
   "cell_type": "code",
   "execution_count": null,
   "id": "9787b192-4b7b-4d8c-8956-5bcda8f83f4b",
   "metadata": {},
   "outputs": [],
   "source": []
  },
  {
   "cell_type": "code",
   "execution_count": null,
   "id": "327d3ef8-b2be-4d83-8b4a-e235c141d10a",
   "metadata": {},
   "outputs": [],
   "source": []
  },
  {
   "cell_type": "code",
   "execution_count": null,
   "id": "fc5742c6-a968-43f1-8349-0be773a705d8",
   "metadata": {},
   "outputs": [],
   "source": []
  },
  {
   "cell_type": "code",
   "execution_count": null,
   "id": "dd0593c7-2e33-4ea7-9350-0facd53fc767",
   "metadata": {},
   "outputs": [],
   "source": []
  },
  {
   "cell_type": "code",
   "execution_count": null,
   "id": "d41cdefe-f70f-40f5-9675-451b30e1c0d1",
   "metadata": {},
   "outputs": [],
   "source": []
  },
  {
   "cell_type": "code",
   "execution_count": null,
   "id": "001fe6dc-6ecf-4f3d-9a9a-880b74806bc5",
   "metadata": {},
   "outputs": [],
   "source": []
  }
 ],
 "metadata": {
  "kernelspec": {
   "display_name": "Python 3",
   "language": "python",
   "name": "python3"
  },
  "language_info": {
   "codemirror_mode": {
    "name": "ipython",
    "version": 3
   },
   "file_extension": ".py",
   "mimetype": "text/x-python",
   "name": "python",
   "nbconvert_exporter": "python",
   "pygments_lexer": "ipython3",
   "version": "3.8.8"
  }
 },
 "nbformat": 4,
 "nbformat_minor": 5
}
